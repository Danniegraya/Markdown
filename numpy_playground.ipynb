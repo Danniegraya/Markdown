{
  "cells": [
    {
      "cell_type": "code",
      "execution_count": null,
      "id": "7732ac35",
      "metadata": {
        "id": "7732ac35"
      },
      "outputs": [],
      "source": [
        "import numpy as np"
      ]
    },
    {
      "cell_type": "markdown",
      "id": "17d278ef",
      "metadata": {
        "id": "17d278ef"
      },
      "source": [
        "## Arrays"
      ]
    },
    {
      "cell_type": "code",
      "execution_count": null,
      "id": "57a81a68",
      "metadata": {
        "colab": {
          "base_uri": "https://localhost:8080/"
        },
        "id": "57a81a68",
        "outputId": "ebc55da4-b6bd-4c3e-baed-a0a7a669434a"
      },
      "outputs": [
        {
          "output_type": "execute_result",
          "data": {
            "text/plain": [
              "list"
            ]
          },
          "metadata": {},
          "execution_count": 3
        }
      ],
      "source": [
        "my_list = [1, 1, 2, 3, 5, 8, 13, 21, 34, 55, 89, 144]\n",
        "type(my_list)"
      ]
    },
    {
      "cell_type": "markdown",
      "id": "a39c4ce7",
      "metadata": {
        "id": "a39c4ce7"
      },
      "source": [
        "We can create a numpy array from a Python list"
      ]
    },
    {
      "cell_type": "code",
      "execution_count": null,
      "id": "52d094fa",
      "metadata": {
        "colab": {
          "base_uri": "https://localhost:8080/"
        },
        "id": "52d094fa",
        "outputId": "cf5a29d9-a83d-4c00-e63d-188ee39e9695"
      },
      "outputs": [
        {
          "output_type": "execute_result",
          "data": {
            "text/plain": [
              "array([  1,   1,   2,   3,   5,   8,  13,  21,  34,  55,  89, 144])"
            ]
          },
          "metadata": {},
          "execution_count": 4
        }
      ],
      "source": [
        "x = np.array(my_list)\n",
        "x"
      ]
    },
    {
      "cell_type": "code",
      "execution_count": null,
      "id": "0bd60cce",
      "metadata": {
        "id": "0bd60cce",
        "outputId": "09530d20-5e98-4fb4-9800-19057739cc2a"
      },
      "outputs": [
        {
          "data": {
            "text/plain": [
              "(12,)"
            ]
          },
          "execution_count": 19,
          "metadata": {},
          "output_type": "execute_result"
        }
      ],
      "source": [
        "x.shape #tenemos 12 elementos (x,y)"
      ]
    },
    {
      "cell_type": "markdown",
      "id": "0801dc3d",
      "metadata": {
        "id": "0801dc3d"
      },
      "source": [
        "Sometimes it is helpful to reshape our array"
      ]
    },
    {
      "cell_type": "code",
      "execution_count": null,
      "id": "b7a08aac",
      "metadata": {
        "colab": {
          "base_uri": "https://localhost:8080/"
        },
        "id": "b7a08aac",
        "outputId": "4983c428-36f5-4a4a-edc7-72037fe78e37"
      },
      "outputs": [
        {
          "output_type": "execute_result",
          "data": {
            "text/plain": [
              "array([[  1],\n",
              "       [  1],\n",
              "       [  2],\n",
              "       [  3],\n",
              "       [  5],\n",
              "       [  8],\n",
              "       [ 13],\n",
              "       [ 21],\n",
              "       [ 34],\n",
              "       [ 55],\n",
              "       [ 89],\n",
              "       [144]])"
            ]
          },
          "metadata": {},
          "execution_count": 11
        }
      ],
      "source": [
        "x = x.reshape(-1, 1)\n",
        "x"
      ]
    },
    {
      "cell_type": "code",
      "execution_count": null,
      "id": "d6a83336",
      "metadata": {
        "id": "d6a83336",
        "outputId": "de1a9141-3e4f-4405-92d2-2a5902c4dbd6"
      },
      "outputs": [
        {
          "data": {
            "text/plain": [
              "(12, 1)"
            ]
          },
          "execution_count": 26,
          "metadata": {},
          "output_type": "execute_result"
        }
      ],
      "source": [
        "x.shape"
      ]
    },
    {
      "cell_type": "markdown",
      "id": "cd678bbd",
      "metadata": {
        "id": "cd678bbd"
      },
      "source": [
        "*We* can use the method `len` of the property `shape` to get the number of elements in an array."
      ]
    },
    {
      "cell_type": "code",
      "execution_count": null,
      "id": "b6891918",
      "metadata": {
        "id": "b6891918",
        "outputId": "3ae7f6bb-526e-4d57-e06b-d912ab651f52"
      },
      "outputs": [
        {
          "data": {
            "text/plain": [
              "True"
            ]
          },
          "execution_count": 29,
          "metadata": {},
          "output_type": "execute_result"
        }
      ],
      "source": [
        "len(x) == x.shape[0]"
      ]
    },
    {
      "cell_type": "code",
      "source": [
        "print(len(x))\n",
        "print(x.shape[0]) #al ser x.shape(12,1) el 0 es 12, el 1 es 1"
      ],
      "metadata": {
        "colab": {
          "base_uri": "https://localhost:8080/"
        },
        "id": "jJ6BoBseGjzV",
        "outputId": "7d2e3e8b-13cd-4626-e6d0-bbc0e3922704"
      },
      "id": "jJ6BoBseGjzV",
      "execution_count": null,
      "outputs": [
        {
          "output_type": "stream",
          "name": "stdout",
          "text": [
            "12\n",
            "12\n"
          ]
        }
      ]
    },
    {
      "cell_type": "code",
      "execution_count": null,
      "id": "a43d2770",
      "metadata": {
        "id": "a43d2770",
        "outputId": "b78fa9ac-ec62-48f4-a94b-c8d6ae97201b"
      },
      "outputs": [
        {
          "data": {
            "text/plain": [
              "12"
            ]
          },
          "execution_count": 31,
          "metadata": {},
          "output_type": "execute_result"
        }
      ],
      "source": [
        "n = x.shape[0]\n",
        "n"
      ]
    },
    {
      "cell_type": "markdown",
      "id": "74bab26e",
      "metadata": {
        "id": "74bab26e"
      },
      "source": [
        "We creare another array of 1s of the same length"
      ]
    },
    {
      "cell_type": "code",
      "execution_count": null,
      "id": "c52cf7ce",
      "metadata": {
        "id": "c52cf7ce",
        "outputId": "d5d2cecc-2513-45ff-f7ae-e5dcebd7d1e1"
      },
      "outputs": [
        {
          "data": {
            "text/plain": [
              "array([1., 1., 1., 1., 1., 1., 1., 1., 1., 1., 1., 1.])"
            ]
          },
          "execution_count": 33,
          "metadata": {},
          "output_type": "execute_result"
        }
      ],
      "source": [
        "y = np.ones(n)\n",
        "y"
      ]
    },
    {
      "cell_type": "code",
      "execution_count": null,
      "id": "338ee77b",
      "metadata": {
        "id": "338ee77b",
        "outputId": "bd650d32-09ac-4749-b746-8aaf4fdf9b93"
      },
      "outputs": [
        {
          "data": {
            "text/plain": [
              "array([[1.],\n",
              "       [1.],\n",
              "       [1.],\n",
              "       [1.],\n",
              "       [1.],\n",
              "       [1.],\n",
              "       [1.],\n",
              "       [1.],\n",
              "       [1.],\n",
              "       [1.],\n",
              "       [1.],\n",
              "       [1.]])"
            ]
          },
          "execution_count": 34,
          "metadata": {},
          "output_type": "execute_result"
        }
      ],
      "source": [
        "y = y.reshape(-1, 1)\n",
        "y"
      ]
    },
    {
      "cell_type": "markdown",
      "id": "c15e65c7",
      "metadata": {
        "id": "c15e65c7"
      },
      "source": [
        "Now, let's do some operations between numpy arrays."
      ]
    },
    {
      "cell_type": "code",
      "execution_count": null,
      "id": "f803f44d",
      "metadata": {
        "id": "f803f44d",
        "outputId": "97056789-6180-450f-8518-7d5736c5b7b2"
      },
      "outputs": [
        {
          "data": {
            "text/plain": [
              "array([[  2.],\n",
              "       [  2.],\n",
              "       [  3.],\n",
              "       [  4.],\n",
              "       [  6.],\n",
              "       [  9.],\n",
              "       [ 14.],\n",
              "       [ 22.],\n",
              "       [ 35.],\n",
              "       [ 56.],\n",
              "       [ 90.],\n",
              "       [145.]])"
            ]
          },
          "execution_count": 35,
          "metadata": {},
          "output_type": "execute_result"
        }
      ],
      "source": [
        "x + y #serie fibonacci, cada serie es la suma de los anteriores"
      ]
    },
    {
      "cell_type": "code",
      "execution_count": null,
      "id": "a175c0ac",
      "metadata": {
        "id": "a175c0ac",
        "outputId": "3ce24cda-fa09-4c20-ad57-5ed5e26c6606"
      },
      "outputs": [
        {
          "data": {
            "text/plain": [
              "array([[  2],\n",
              "       [  2],\n",
              "       [  3],\n",
              "       [  4],\n",
              "       [  6],\n",
              "       [  9],\n",
              "       [ 14],\n",
              "       [ 22],\n",
              "       [ 35],\n",
              "       [ 56],\n",
              "       [ 90],\n",
              "       [145]])"
            ]
          },
          "execution_count": 37,
          "metadata": {},
          "output_type": "execute_result"
        }
      ],
      "source": [
        "x + 1 # broadcasting, x +1 más"
      ]
    },
    {
      "cell_type": "code",
      "execution_count": null,
      "id": "4e8e27f8",
      "metadata": {
        "id": "4e8e27f8",
        "outputId": "7be503c0-abb7-475d-ecea-3ef88d971eb3"
      },
      "outputs": [
        {
          "data": {
            "text/plain": [
              "array([[  1.],\n",
              "       [  1.],\n",
              "       [  2.],\n",
              "       [  3.],\n",
              "       [  5.],\n",
              "       [  8.],\n",
              "       [ 13.],\n",
              "       [ 21.],\n",
              "       [ 34.],\n",
              "       [ 55.],\n",
              "       [ 89.],\n",
              "       [144.]])"
            ]
          },
          "execution_count": 40,
          "metadata": {},
          "output_type": "execute_result"
        }
      ],
      "source": [
        "x * y"
      ]
    },
    {
      "cell_type": "markdown",
      "id": "7753ce00",
      "metadata": {
        "id": "7753ce00"
      },
      "source": [
        "## Multidimensional Arrays"
      ]
    },
    {
      "cell_type": "code",
      "execution_count": null,
      "id": "b49c33e3",
      "metadata": {
        "id": "b49c33e3",
        "outputId": "85f8a6a4-7137-42db-c537-04bc99f22d5a"
      },
      "outputs": [
        {
          "name": "stdout",
          "output_type": "stream",
          "text": [
            "[[1 2]\n",
            " [3 4]]\n",
            "(2, 2)\n"
          ]
        }
      ],
      "source": [
        "#Matriz 2 filas x 2 columnas\n",
        "x = np.array([[1, 2], [3, 4]])\n",
        "print(x)\n",
        "print(x.shape)"
      ]
    },
    {
      "cell_type": "code",
      "execution_count": null,
      "id": "7ebdc81c",
      "metadata": {
        "id": "7ebdc81c",
        "outputId": "eebe6c0e-1405-4503-c077-997a3afb46ee"
      },
      "outputs": [
        {
          "name": "stdout",
          "output_type": "stream",
          "text": [
            "[[ 1  4]\n",
            " [ 0  5]\n",
            " [-1  1]]\n",
            "(3, 2)\n"
          ]
        }
      ],
      "source": [
        "#matriz 3x2\n",
        "y = np.array([[1, 4], [0, 5], [-1, 1]])\n",
        "print(y)\n",
        "print(y.shape)"
      ]
    },
    {
      "cell_type": "code",
      "execution_count": null,
      "id": "41e7cf9e",
      "metadata": {
        "id": "41e7cf9e",
        "outputId": "04a48ec1-9cfe-4c59-ce30-c27b682f4713"
      },
      "outputs": [
        {
          "name": "stdout",
          "output_type": "stream",
          "text": [
            "[[3]\n",
            " [7]\n",
            " [2]]\n",
            "(3, 1)\n"
          ]
        }
      ],
      "source": [
        "#arreglo de 3 filas x 1 columna\n",
        "z = np.array([[3], [7], [2]])\n",
        "print(z)\n",
        "print(z.shape)"
      ]
    },
    {
      "cell_type": "code",
      "execution_count": null,
      "id": "fd482548",
      "metadata": {
        "id": "fd482548",
        "outputId": "e0ac1e52-d870-487f-f874-2ab47764dd47"
      },
      "outputs": [
        {
          "name": "stdout",
          "output_type": "stream",
          "text": [
            "[[ 1 12]]\n",
            "(1, 2)\n"
          ]
        }
      ],
      "source": [
        "#arreglo 1x2\n",
        "w = np.array([[1, 12]])\n",
        "print(w)\n",
        "print(w.shape)"
      ]
    },
    {
      "cell_type": "markdown",
      "id": "9fd5f1c1",
      "metadata": {
        "id": "9fd5f1c1"
      },
      "source": [
        "#### Let's do some operations"
      ]
    },
    {
      "cell_type": "code",
      "execution_count": null,
      "id": "b01c0bb2",
      "metadata": {
        "id": "b01c0bb2",
        "outputId": "50fb2a18-630c-4b7b-8750-124c85d5279e"
      },
      "outputs": [
        {
          "data": {
            "text/plain": [
              "array([[ 9, 10,  1],\n",
              "       [19, 20,  1]])"
            ]
          },
          "execution_count": 61,
          "metadata": {},
          "output_type": "execute_result"
        }
      ],
      "source": [
        "x @ y.transpose() # (2, 2) x (2, 3) = (2, 3)"
      ]
    },
    {
      "cell_type": "code",
      "execution_count": null,
      "id": "9a6330e6",
      "metadata": {
        "id": "9a6330e6",
        "outputId": "2790ce84-3b4d-4b59-de58-cc705cf4ccc4"
      },
      "outputs": [
        {
          "data": {
            "text/plain": [
              "array([[ 4,  7],\n",
              "       [ 7, 12],\n",
              "       [ 1,  3]])"
            ]
          },
          "execution_count": 64,
          "metadata": {},
          "output_type": "execute_result"
        }
      ],
      "source": [
        "y + z # z is added element-wise in each column of y -> broadcasting  columna 1: (3+1, 3+4),columna 2:(7+0, 7+5), columna 3:(2-1, 2+1)"
      ]
    },
    {
      "cell_type": "code",
      "execution_count": null,
      "id": "677647f6",
      "metadata": {
        "id": "677647f6",
        "outputId": "849b242a-f25c-4021-d741-df2b1e81e69f"
      },
      "outputs": [
        {
          "data": {
            "text/plain": [
              "array([[ 2, 14],\n",
              "       [ 4, 16]])"
            ]
          },
          "execution_count": 65,
          "metadata": {},
          "output_type": "execute_result"
        }
      ],
      "source": [
        "x + w # w is added element-wise in each row of x -> broadcasting sumar w a cada columna dex"
      ]
    },
    {
      "cell_type": "code",
      "source": [
        "np.sum(x)"
      ],
      "metadata": {
        "colab": {
          "base_uri": "https://localhost:8080/"
        },
        "id": "kWatRYOXKKoX",
        "outputId": "e73a5b3a-20ed-47f0-e979-30bba382d748"
      },
      "id": "kWatRYOXKKoX",
      "execution_count": null,
      "outputs": [
        {
          "output_type": "execute_result",
          "data": {
            "text/plain": [
              "376"
            ]
          },
          "metadata": {},
          "execution_count": 16
        }
      ]
    },
    {
      "cell_type": "code",
      "source": [
        "np.max(x)"
      ],
      "metadata": {
        "colab": {
          "base_uri": "https://localhost:8080/"
        },
        "id": "CEtZsS8CKM4u",
        "outputId": "999f0c22-c820-4554-c262-cc50a4f778c4"
      },
      "id": "CEtZsS8CKM4u",
      "execution_count": null,
      "outputs": [
        {
          "output_type": "execute_result",
          "data": {
            "text/plain": [
              "144"
            ]
          },
          "metadata": {},
          "execution_count": 17
        }
      ]
    },
    {
      "cell_type": "code",
      "source": [
        "np.min(x)"
      ],
      "metadata": {
        "colab": {
          "base_uri": "https://localhost:8080/"
        },
        "id": "kRFLRMf_KXrb",
        "outputId": "ae330be3-9a72-4952-d069-8c54d53c92db"
      },
      "id": "kRFLRMf_KXrb",
      "execution_count": null,
      "outputs": [
        {
          "output_type": "execute_result",
          "data": {
            "text/plain": [
              "1"
            ]
          },
          "metadata": {},
          "execution_count": 20
        }
      ]
    },
    {
      "cell_type": "code",
      "source": [
        "np.max(x, axis=0) #puedo ponerle ,keepdims=True para acomodarlos"
      ],
      "metadata": {
        "colab": {
          "base_uri": "https://localhost:8080/"
        },
        "id": "quXTpsJhKbD9",
        "outputId": "1ceaa884-8628-4ed5-b492-55f2fa0e14e1"
      },
      "id": "quXTpsJhKbD9",
      "execution_count": null,
      "outputs": [
        {
          "output_type": "execute_result",
          "data": {
            "text/plain": [
              "array([144])"
            ]
          },
          "metadata": {},
          "execution_count": 30
        }
      ]
    },
    {
      "cell_type": "code",
      "source": [
        "np.sum(x, axis=0)"
      ],
      "metadata": {
        "colab": {
          "base_uri": "https://localhost:8080/"
        },
        "id": "ahJ05L6OKiS4",
        "outputId": "2131b276-b02b-4039-e04c-ab29519d254e"
      },
      "id": "ahJ05L6OKiS4",
      "execution_count": null,
      "outputs": [
        {
          "output_type": "execute_result",
          "data": {
            "text/plain": [
              "array([376])"
            ]
          },
          "metadata": {},
          "execution_count": 28
        }
      ]
    },
    {
      "cell_type": "code",
      "source": [],
      "metadata": {
        "id": "XmpppHv_KmME"
      },
      "id": "XmpppHv_KmME",
      "execution_count": null,
      "outputs": []
    }
  ],
  "metadata": {
    "kernelspec": {
      "display_name": "Python 3 (ipykernel)",
      "language": "python",
      "name": "python3"
    },
    "language_info": {
      "codemirror_mode": {
        "name": "ipython",
        "version": 3
      },
      "file_extension": ".py",
      "mimetype": "text/x-python",
      "name": "python",
      "nbconvert_exporter": "python",
      "pygments_lexer": "ipython3",
      "version": "3.8.15"
    },
    "colab": {
      "provenance": []
    }
  },
  "nbformat": 4,
  "nbformat_minor": 5
}