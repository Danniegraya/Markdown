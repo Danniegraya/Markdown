{
  "nbformat": 4,
  "nbformat_minor": 0,
  "metadata": {
    "colab": {
      "provenance": [],
      "authorship_tag": "ABX9TyMPYncV5iqyajIbPsqnWFtS"
    },
    "kernelspec": {
      "name": "python3",
      "display_name": "Python 3"
    },
    "language_info": {
      "name": "python"
    }
  },
  "cells": [
    {
      "cell_type": "markdown",
      "source": [
        "#Clase 1"
      ],
      "metadata": {
        "id": "0NIgp2fklpqK"
      }
    },
    {
      "cell_type": "code",
      "source": [
        "H = [\"a\",\"b\",\"c\",\"d\",\"a\",\"a\",\"b\",\"c\"]\n",
        "print(H)\n",
        "print(str(len(H))+\" elementos\")"
      ],
      "metadata": {
        "colab": {
          "base_uri": "https://localhost:8080/"
        },
        "id": "c2rD7X0obPz2",
        "outputId": "d93ea8b2-f473-4da9-a6f2-ac2174e9e7f7"
      },
      "execution_count": null,
      "outputs": [
        {
          "output_type": "stream",
          "name": "stdout",
          "text": [
            "['a', 'b', 'c', 'd', 'a', 'a', 'b', 'c']\n",
            "8 elementos\n"
          ]
        }
      ]
    },
    {
      "cell_type": "code",
      "source": [
        "type(H)"
      ],
      "metadata": {
        "colab": {
          "base_uri": "https://localhost:8080/"
        },
        "id": "_cJiu9lYbSZO",
        "outputId": "313333ea-0d40-431c-a674-99abafee1904"
      },
      "execution_count": null,
      "outputs": [
        {
          "output_type": "execute_result",
          "data": {
            "text/plain": [
              "list"
            ]
          },
          "metadata": {},
          "execution_count": 11
        }
      ]
    },
    {
      "cell_type": "code",
      "source": [
        "len(H) #te da la longitud de los conjuntos de H"
      ],
      "metadata": {
        "colab": {
          "base_uri": "https://localhost:8080/"
        },
        "id": "6O0CDz8dbUID",
        "outputId": "1793d395-9fc0-4d73-f9a8-7011cc3b4dcf"
      },
      "execution_count": null,
      "outputs": [
        {
          "output_type": "execute_result",
          "data": {
            "text/plain": [
              "8"
            ]
          },
          "metadata": {},
          "execution_count": 12
        }
      ]
    },
    {
      "cell_type": "code",
      "source": [
        "print(\"Esto es un ejemplo\"+\" xxxx\"+\" yyyy\"+ str(2)) #str convierte cualquier # a letras"
      ],
      "metadata": {
        "colab": {
          "base_uri": "https://localhost:8080/"
        },
        "id": "pM_47ncoba60",
        "outputId": "29a83910-a24d-4757-c9ef-e1e3a99de732"
      },
      "execution_count": null,
      "outputs": [
        {
          "output_type": "stream",
          "name": "stdout",
          "text": [
            "Esto es un ejemplo xxxx yyyy2\n"
          ]
        }
      ]
    },
    {
      "cell_type": "markdown",
      "source": [
        "*Un conjunto en Python*"
      ],
      "metadata": {
        "id": "LbvfEpnQbkM6"
      }
    },
    {
      "cell_type": "code",
      "source": [
        "A = {\"a\",\"b\",\"c\",\"d\",\"a\",\"a\",\"b\",\"c\"}\n",
        "print(A)\n",
        "print(str(len(A))+\" elementos\")"
      ],
      "metadata": {
        "colab": {
          "base_uri": "https://localhost:8080/"
        },
        "id": "iDseRVKzblMn",
        "outputId": "0d6a9e38-5baa-49ec-ef88-710ed7115071"
      },
      "execution_count": null,
      "outputs": [
        {
          "output_type": "stream",
          "name": "stdout",
          "text": [
            "{'a', 'b', 'd', 'c'}\n",
            "4 elementos\n"
          ]
        }
      ]
    },
    {
      "cell_type": "code",
      "source": [
        "#Ejemplo 1\n",
        "\n",
        "U = {\"a\",\"b\",\"c\",\"d\",\"e\"}\n",
        "A = {\"a\", \"b\",\"d\"}\n",
        "B = {\"b\",\"d\",\"e\"}\n",
        "\n",
        "# A unión B\n",
        "print(\"A union B:\", A.union(B))\n",
        "print(\"A union B:\", A | B)\n",
        "\n",
        "# A intersección B\n",
        "print(\"A intersección B:\", A.intersection(B))\n",
        "print(\"A intersección B:\", A & B)\n",
        "\n",
        "# Complemento de A\n",
        "print(\"Complemento de A:\", U.difference(A))\n",
        "print(\"Complemento de A:\", U - A)\n",
        "\n",
        "# A Complemento intersección B\n",
        "print(\"A Complemento de intersección B:\", (U - A) & B)\n",
        "\n",
        "# A intersección Complemento de B\n",
        "print(\"A intersección Complemento de B\", A & (U-B))\n",
        "\n",
        "# A unión complemento B\n",
        "print(\"A unión Complemento B:\", (U - A) | B)\n",
        "\n",
        "# B complemento unión A\n",
        "print(\"B complemento unión A:\", (U - B)| A)\n",
        "\n",
        "# Complemento de la intersección de A con B\n",
        "print(\"Complemento de la intersección de A con B:\", U - (A&B))\n",
        "\n",
        "# Complemento de la unión de A con B\n",
        "print(\"Complemento de la unión de A con B:\", U - (A|B))\n",
        "\n",
        "# B menos A\n",
        "print(\"B menos A:\", B - A)\n",
        "\n",
        "# A menos B\n",
        "print(\"A menos B\", A - B)\n",
        "\n",
        "# B complemento menos A complemento\n",
        "print(\"B complemento menos A complemento:\", (U - B)- (U - A))"
      ],
      "metadata": {
        "colab": {
          "base_uri": "https://localhost:8080/"
        },
        "id": "3bH8BdP4bov2",
        "outputId": "cc44678a-8388-4ed9-d5d9-06b0f934e008"
      },
      "execution_count": null,
      "outputs": [
        {
          "output_type": "stream",
          "name": "stdout",
          "text": [
            "A union B: {'e', 'a', 'b', 'd'}\n",
            "A union B: {'e', 'a', 'b', 'd'}\n",
            "A intersección B: {'b', 'd'}\n",
            "A intersección B: {'b', 'd'}\n",
            "Complemento de A: {'e', 'c'}\n",
            "Complemento de A: {'e', 'c'}\n",
            "A Complemento de intersección B: {'e'}\n",
            "A intersección Complemento de B {'a'}\n",
            "A unión Complemento B: {'e', 'c', 'b', 'd'}\n",
            "B complemento unión A: {'c', 'a', 'b', 'd'}\n",
            "Complemento de la intersección de A con B: {'e', 'a', 'c'}\n",
            "Complemento de la unión de A con B: {'c'}\n",
            "B menos A: {'e'}\n",
            "A menos B {'a'}\n",
            "B complemento menos A complemento: {'a'}\n"
          ]
        }
      ]
    },
    {
      "cell_type": "markdown",
      "source": [
        "######Conjunto producto"
      ],
      "metadata": {
        "id": "u503ZzR7k5rp"
      }
    },
    {
      "cell_type": "code",
      "source": [
        "#Se necesita importar el metodo product de la libreria itertools\n",
        "#Ejemplo conjunto producto A x B x C\n",
        "from itertools import product\n",
        "\n",
        "A = {'a','b'}\n",
        "B = {2,3}\n",
        "C = {3,4}\n",
        "result = set(product(A,B,C))\n",
        "print(result)\n",
        "\n",
        "print(\"Elementos en el conjunto: \" + str(len(result)))"
      ],
      "metadata": {
        "colab": {
          "base_uri": "https://localhost:8080/"
        },
        "id": "l9cz01DWodcX",
        "outputId": "ca03f280-eadf-4b54-b017-220b61f40326"
      },
      "execution_count": null,
      "outputs": [
        {
          "output_type": "stream",
          "name": "stdout",
          "text": [
            "{('a', 2, 4), ('a', 3, 4), ('b', 2, 4), ('b', 3, 3), ('a', 2, 3), ('a', 3, 3), ('b', 2, 3), ('b', 3, 4)}\n",
            "Elementos en el conjunto: 8\n"
          ]
        }
      ]
    },
    {
      "cell_type": "code",
      "source": [
        "#Ejemplo conjunto producto A x (B unión C)\n",
        "result = set(product(A,B|C))\n",
        "print(result)\n",
        "print(\"Elementos en el conjunto: \" + str(len(result)))"
      ],
      "metadata": {
        "colab": {
          "base_uri": "https://localhost:8080/"
        },
        "id": "_t90VUgZpTWM",
        "outputId": "00e2be13-7f67-4a71-b931-bb067b964c55"
      },
      "execution_count": null,
      "outputs": [
        {
          "output_type": "stream",
          "name": "stdout",
          "text": [
            "{('b', 2), ('a', 4), ('b', 4), ('a', 3), ('b', 3), ('a', 2)}\n",
            "Elementos en el conjunto: 6\n"
          ]
        }
      ]
    },
    {
      "cell_type": "markdown",
      "source": [
        "####Permutaciones"
      ],
      "metadata": {
        "id": "VpNJ9LkfubDA"
      }
    },
    {
      "cell_type": "code",
      "source": [
        "from math import factorial\n",
        "print(factorial(3))\n",
        "print(factorial(4))"
      ],
      "metadata": {
        "colab": {
          "base_uri": "https://localhost:8080/"
        },
        "id": "AomDoNb7lriM",
        "outputId": "d7d8d1d4-53d4-41db-c2cc-51f558b539d3"
      },
      "execution_count": null,
      "outputs": [
        {
          "output_type": "stream",
          "name": "stdout",
          "text": [
            "6\n",
            "24\n"
          ]
        }
      ]
    },
    {
      "cell_type": "code",
      "source": [
        "from math import perm #permutaciones\n",
        "#para esta librería hay que importar cada función\n",
        "print(perm(4,3))"
      ],
      "metadata": {
        "colab": {
          "base_uri": "https://localhost:8080/"
        },
        "id": "yMBon0Xml2vk",
        "outputId": "71f5094a-fa06-427e-d887-c57b3d1977b4"
      },
      "execution_count": null,
      "outputs": [
        {
          "output_type": "stream",
          "name": "stdout",
          "text": [
            "24\n"
          ]
        }
      ]
    },
    {
      "cell_type": "code",
      "source": [
        "from math import *\n",
        "#ya se importó todo pero el riesgo es que hagan funciones que hagan otras liberías y que no sea la que busques\n",
        "perm(4,2)"
      ],
      "metadata": {
        "colab": {
          "base_uri": "https://localhost:8080/"
        },
        "id": "_SRt_eP0l5UI",
        "outputId": "3d4a32cb-afbd-4340-e420-5ff14207882c"
      },
      "execution_count": null,
      "outputs": [
        {
          "output_type": "execute_result",
          "data": {
            "text/plain": [
              "12"
            ]
          },
          "metadata": {},
          "execution_count": 44
        }
      ]
    },
    {
      "cell_type": "code",
      "source": [
        "cos(2)"
      ],
      "metadata": {
        "colab": {
          "base_uri": "https://localhost:8080/"
        },
        "id": "vudRO7b0l8V5",
        "outputId": "dd0c2c70-0e98-49cc-f276-a5d8bd1c7191"
      },
      "execution_count": null,
      "outputs": [
        {
          "output_type": "execute_result",
          "data": {
            "text/plain": [
              "-0.4161468365471424"
            ]
          },
          "metadata": {},
          "execution_count": 8
        }
      ]
    },
    {
      "cell_type": "code",
      "source": [
        "import math\n",
        "#para esta librería hay que poner math primero\n",
        "print(math.cos(2))\n",
        "print(math.factorial(5))\n",
        "print(math.perm(4,3))\n",
        "print(math.perm(4,2))"
      ],
      "metadata": {
        "colab": {
          "base_uri": "https://localhost:8080/"
        },
        "id": "qkel6uy1l9z7",
        "outputId": "f47bf6ea-80cc-43c2-b2b4-0af82c5e74f6"
      },
      "execution_count": null,
      "outputs": [
        {
          "output_type": "stream",
          "name": "stdout",
          "text": [
            "-0.4161468365471424\n",
            "120\n",
            "24\n",
            "12\n"
          ]
        }
      ]
    },
    {
      "cell_type": "code",
      "source": [
        "import itertools\n",
        "result = itertools.permutations({1,2,3,4},4)\n",
        "print(set(result))\n",
        "result = itertools.permutations({1,2,3,4},4)\n",
        "print(len(set(result)))"
      ],
      "metadata": {
        "colab": {
          "base_uri": "https://localhost:8080/"
        },
        "id": "NbzxtoOLmD03",
        "outputId": "857801c1-73bb-4be0-fe56-f45b523ced97"
      },
      "execution_count": null,
      "outputs": [
        {
          "output_type": "stream",
          "name": "stdout",
          "text": [
            "{(2, 3, 1, 4), (1, 2, 3, 4), (1, 2, 4, 3), (3, 1, 2, 4), (2, 4, 3, 1), (4, 3, 2, 1), (4, 1, 3, 2), (1, 4, 2, 3), (4, 2, 1, 3), (2, 4, 1, 3), (4, 3, 1, 2), (3, 4, 2, 1), (3, 2, 4, 1), (2, 1, 4, 3), (4, 1, 2, 3), (2, 1, 3, 4), (3, 4, 1, 2), (1, 3, 4, 2), (3, 2, 1, 4), (2, 3, 4, 1), (1, 3, 2, 4), (4, 2, 3, 1), (1, 4, 3, 2), (3, 1, 4, 2)}\n",
            "24\n"
          ]
        }
      ]
    },
    {
      "cell_type": "code",
      "source": [
        "result = itertools.permutations({1,2,3,4},2)\n",
        "set(result)"
      ],
      "metadata": {
        "colab": {
          "base_uri": "https://localhost:8080/"
        },
        "id": "K12o-p3SmF-m",
        "outputId": "0a030329-e8d3-4533-86e1-6f7c838f47da"
      },
      "execution_count": null,
      "outputs": [
        {
          "output_type": "execute_result",
          "data": {
            "text/plain": [
              "{(1, 2),\n",
              " (1, 3),\n",
              " (1, 4),\n",
              " (2, 1),\n",
              " (2, 3),\n",
              " (2, 4),\n",
              " (3, 1),\n",
              " (3, 2),\n",
              " (3, 4),\n",
              " (4, 1),\n",
              " (4, 2),\n",
              " (4, 3)}"
            ]
          },
          "metadata": {},
          "execution_count": 61
        }
      ]
    },
    {
      "cell_type": "code",
      "source": [
        "result = itertools.permutations({1,2,3,4},2)\n",
        "len(list(result)) #si no le pongo print debo decirle que me de la longitud"
      ],
      "metadata": {
        "colab": {
          "base_uri": "https://localhost:8080/"
        },
        "id": "cMkP4meH6uSk",
        "outputId": "caf2745a-cfad-4415-df87-bc2b8cac3b8f"
      },
      "execution_count": null,
      "outputs": [
        {
          "output_type": "execute_result",
          "data": {
            "text/plain": [
              "12"
            ]
          },
          "metadata": {},
          "execution_count": 63
        }
      ]
    },
    {
      "cell_type": "markdown",
      "source": [
        "#Clase 2"
      ],
      "metadata": {
        "id": "l6ne4_NEoHYQ"
      }
    },
    {
      "cell_type": "code",
      "source": [
        "# Ejemplo 6\n",
        "import math\n",
        "n = 4\n",
        "r = 3\n",
        "print(\" Combinaciones = \"+str(math.comb(n,r)))\n",
        "print(\" Permutaciones = \"+str(math.perm(n,r)))"
      ],
      "metadata": {
        "colab": {
          "base_uri": "https://localhost:8080/"
        },
        "id": "PNylp7I0oKBs",
        "outputId": "96a3e364-ce2b-4f2e-c6b2-a3ad8abacaea"
      },
      "execution_count": null,
      "outputs": [
        {
          "output_type": "stream",
          "name": "stdout",
          "text": [
            " Combinaciones = 4\n",
            " Permutaciones = 24\n"
          ]
        }
      ]
    },
    {
      "cell_type": "code",
      "source": [
        "# Ejemplo 6\n",
        "from math import comb\n",
        "from math import perm\n",
        "n = 4\n",
        "r = 3\n",
        "print(\" Combinaciones = \"+str(comb(n,r)))\n",
        "print(\" Permutaciones = \"+str(perm(n,r)))"
      ],
      "metadata": {
        "colab": {
          "base_uri": "https://localhost:8080/"
        },
        "id": "efzE6ONPoOmV",
        "outputId": "b3bcd052-8f2c-4ad6-c4de-f40b1b6d8059"
      },
      "execution_count": null,
      "outputs": [
        {
          "output_type": "stream",
          "name": "stdout",
          "text": [
            " Combinaciones = 4\n",
            " Permutaciones = 24\n"
          ]
        }
      ]
    },
    {
      "cell_type": "code",
      "source": [
        "# Ejemplo 6\n",
        "from math import *\n",
        "n = 4\n",
        "r = 3\n",
        "print(\" Combinaciones = \"+str(comb(n,r)))\n",
        "print(\" Permutaciones = \"+str(perm(n,r)))"
      ],
      "metadata": {
        "colab": {
          "base_uri": "https://localhost:8080/"
        },
        "id": "8RPMiM8YoQ3n",
        "outputId": "3481f827-d72a-41f3-a955-7ae0c0fa58f4"
      },
      "execution_count": null,
      "outputs": [
        {
          "output_type": "stream",
          "name": "stdout",
          "text": [
            " Combinaciones = 4\n",
            " Permutaciones = 24\n"
          ]
        }
      ]
    },
    {
      "cell_type": "code",
      "source": [
        "import itertools\n",
        "A = {\"a\",\"b\",\"c\",\"d\"}\n",
        "P = set(itertools.permutations(A,3)) #se usa set cuando no hay letras repetidas. Set es para conjunto\n",
        "C = set(itertools.combinations(A,3))\n",
        "print(P)"
      ],
      "metadata": {
        "colab": {
          "base_uri": "https://localhost:8080/"
        },
        "id": "WntnZ0EhoSVr",
        "outputId": "50409b0a-f173-4e9b-d277-100250e8364a"
      },
      "execution_count": null,
      "outputs": [
        {
          "output_type": "stream",
          "name": "stdout",
          "text": [
            "{('b', 'd', 'a'), ('a', 'b', 'd'), ('b', 'c', 'a'), ('b', 'a', 'c'), ('d', 'b', 'a'), ('c', 'a', 'b'), ('a', 'd', 'b'), ('a', 'c', 'b'), ('d', 'c', 'b'), ('a', 'c', 'd'), ('c', 'a', 'd'), ('d', 'c', 'a'), ('d', 'a', 'c'), ('b', 'a', 'd'), ('d', 'a', 'b'), ('b', 'd', 'c'), ('c', 'd', 'b'), ('a', 'b', 'c'), ('d', 'b', 'c'), ('c', 'b', 'd'), ('c', 'b', 'a'), ('c', 'd', 'a'), ('a', 'd', 'c'), ('b', 'c', 'd')}\n"
          ]
        }
      ]
    },
    {
      "cell_type": "code",
      "source": [
        "P #Para verlos verticales\n"
      ],
      "metadata": {
        "colab": {
          "base_uri": "https://localhost:8080/"
        },
        "id": "A0yXdvQpoTrs",
        "outputId": "b07c6bb2-93a6-46cf-ac20-eb3f3c7fd948"
      },
      "execution_count": null,
      "outputs": [
        {
          "output_type": "execute_result",
          "data": {
            "text/plain": [
              "{('a', 'b', 'c'),\n",
              " ('a', 'b', 'd'),\n",
              " ('a', 'c', 'b'),\n",
              " ('a', 'c', 'd'),\n",
              " ('a', 'd', 'b'),\n",
              " ('a', 'd', 'c'),\n",
              " ('b', 'a', 'c'),\n",
              " ('b', 'a', 'd'),\n",
              " ('b', 'c', 'a'),\n",
              " ('b', 'c', 'd'),\n",
              " ('b', 'd', 'a'),\n",
              " ('b', 'd', 'c'),\n",
              " ('c', 'a', 'b'),\n",
              " ('c', 'a', 'd'),\n",
              " ('c', 'b', 'a'),\n",
              " ('c', 'b', 'd'),\n",
              " ('c', 'd', 'a'),\n",
              " ('c', 'd', 'b'),\n",
              " ('d', 'a', 'b'),\n",
              " ('d', 'a', 'c'),\n",
              " ('d', 'b', 'a'),\n",
              " ('d', 'b', 'c'),\n",
              " ('d', 'c', 'a'),\n",
              " ('d', 'c', 'b')}"
            ]
          },
          "metadata": {},
          "execution_count": 32
        }
      ]
    },
    {
      "cell_type": "code",
      "source": [
        "C"
      ],
      "metadata": {
        "colab": {
          "base_uri": "https://localhost:8080/"
        },
        "id": "ifBcPYgioVSF",
        "outputId": "4726f3ac-e674-42a0-f9a0-1466ac0a637f"
      },
      "execution_count": null,
      "outputs": [
        {
          "output_type": "execute_result",
          "data": {
            "text/plain": [
              "{('a', 'b', 'c'), ('a', 'b', 'd'), ('a', 'c', 'd'), ('b', 'c', 'd')}"
            ]
          },
          "metadata": {},
          "execution_count": 33
        }
      ]
    },
    {
      "cell_type": "code",
      "source": [
        "import itertools\n",
        "A = ['a','a','c','d']\n",
        "P = list(itertools.permutations(A,3)) # es lista en lugar de set porque se repite la a dos veces. List es para lista\n",
        "C = list(itertools.combinations(A,3))\n",
        "print(P)\n",
        "print(C)"
      ],
      "metadata": {
        "colab": {
          "base_uri": "https://localhost:8080/"
        },
        "id": "gfwh9oYFoXCZ",
        "outputId": "4fdd3dbb-32f3-460e-ed5a-017f92bf4110"
      },
      "execution_count": null,
      "outputs": [
        {
          "output_type": "stream",
          "name": "stdout",
          "text": [
            "[('a', 'a', 'c'), ('a', 'a', 'd'), ('a', 'c', 'a'), ('a', 'c', 'd'), ('a', 'd', 'a'), ('a', 'd', 'c'), ('a', 'a', 'c'), ('a', 'a', 'd'), ('a', 'c', 'a'), ('a', 'c', 'd'), ('a', 'd', 'a'), ('a', 'd', 'c'), ('c', 'a', 'a'), ('c', 'a', 'd'), ('c', 'a', 'a'), ('c', 'a', 'd'), ('c', 'd', 'a'), ('c', 'd', 'a'), ('d', 'a', 'a'), ('d', 'a', 'c'), ('d', 'a', 'a'), ('d', 'a', 'c'), ('d', 'c', 'a'), ('d', 'c', 'a')]\n",
            "[('a', 'a', 'c'), ('a', 'a', 'd'), ('a', 'c', 'd'), ('a', 'c', 'd')]\n"
          ]
        }
      ]
    },
    {
      "cell_type": "code",
      "source": [
        "P #para verlos vertical"
      ],
      "metadata": {
        "colab": {
          "base_uri": "https://localhost:8080/"
        },
        "id": "MX_5N_TroY1m",
        "outputId": "eb232823-bbea-4231-e0ea-08d9856fb852"
      },
      "execution_count": null,
      "outputs": [
        {
          "output_type": "execute_result",
          "data": {
            "text/plain": [
              "[('a', 'a', 'c'),\n",
              " ('a', 'a', 'd'),\n",
              " ('a', 'c', 'a'),\n",
              " ('a', 'c', 'd'),\n",
              " ('a', 'd', 'a'),\n",
              " ('a', 'd', 'c'),\n",
              " ('a', 'a', 'c'),\n",
              " ('a', 'a', 'd'),\n",
              " ('a', 'c', 'a'),\n",
              " ('a', 'c', 'd'),\n",
              " ('a', 'd', 'a'),\n",
              " ('a', 'd', 'c'),\n",
              " ('c', 'a', 'a'),\n",
              " ('c', 'a', 'd'),\n",
              " ('c', 'a', 'a'),\n",
              " ('c', 'a', 'd'),\n",
              " ('c', 'd', 'a'),\n",
              " ('c', 'd', 'a'),\n",
              " ('d', 'a', 'a'),\n",
              " ('d', 'a', 'c'),\n",
              " ('d', 'a', 'a'),\n",
              " ('d', 'a', 'c'),\n",
              " ('d', 'c', 'a'),\n",
              " ('d', 'c', 'a')]"
            ]
          },
          "metadata": {},
          "execution_count": 35
        }
      ]
    },
    {
      "cell_type": "code",
      "source": [
        "# Ejemplo 8\n",
        "import math\n",
        "print(\"1 estudiante -> \"+str(math.comb(6,1)))\n",
        "print(\"2 estudiante -> \"+str(math.comb(6,2)))\n",
        "print(\"3 estudiante -> \"+str(math.comb(6,3)))\n",
        "print(\"4 estudiante -> \"+str(math.comb(6,4)))\n",
        "print(\"5 estudiante -> \"+str(math.comb(6,5)))\n",
        "print(\"6 estudiante -> \"+str(math.comb(6,6)))"
      ],
      "metadata": {
        "colab": {
          "base_uri": "https://localhost:8080/"
        },
        "id": "SAADFTOdoaoe",
        "outputId": "cb923784-d4b1-4f56-b066-7d890501ee8c"
      },
      "execution_count": null,
      "outputs": [
        {
          "output_type": "stream",
          "name": "stdout",
          "text": [
            "1 estudiante -> 6\n",
            "2 estudiante -> 15\n",
            "3 estudiante -> 20\n",
            "4 estudiante -> 15\n",
            "5 estudiante -> 6\n",
            "6 estudiante -> 1\n"
          ]
        }
      ]
    },
    {
      "cell_type": "code",
      "source": [
        "math.comb(6,1)+math.comb(6,2)+math.comb(6,3)+math.comb(6,4)+math.comb(6,5)+math.comb(6,6)"
      ],
      "metadata": {
        "colab": {
          "base_uri": "https://localhost:8080/"
        },
        "id": "WnEvP3GGoc-l",
        "outputId": "7fe85e64-af50-40f5-ed69-779a9869f607"
      },
      "execution_count": null,
      "outputs": [
        {
          "output_type": "execute_result",
          "data": {
            "text/plain": [
              "63"
            ]
          },
          "metadata": {},
          "execution_count": 37
        }
      ]
    },
    {
      "cell_type": "code",
      "source": [
        "import math\n",
        "n = 6\n",
        "r = [1,2,3,4,5,6]\n",
        "total = 0\n",
        "for k in r:\n",
        "  print(str(k)+\" estudiantes -> \"+str(math.comb(n,k)))\n",
        "  total = total + math.comb(n,k)\n",
        "  print(\"--------\")\n",
        "  print(\" Total: \"+str(total))"
      ],
      "metadata": {
        "colab": {
          "base_uri": "https://localhost:8080/"
        },
        "id": "yvoj1CWfofJI",
        "outputId": "507a6d0a-fedb-4ef0-b505-34a84aa742f2"
      },
      "execution_count": null,
      "outputs": [
        {
          "output_type": "stream",
          "name": "stdout",
          "text": [
            "1 estudiantes -> 6\n",
            "--------\n",
            " Total: 6\n",
            "2 estudiantes -> 15\n",
            "--------\n",
            " Total: 21\n",
            "3 estudiantes -> 20\n",
            "--------\n",
            " Total: 41\n",
            "4 estudiantes -> 15\n",
            "--------\n",
            " Total: 56\n",
            "5 estudiantes -> 6\n",
            "--------\n",
            " Total: 62\n",
            "6 estudiantes -> 1\n",
            "--------\n",
            " Total: 63\n"
          ]
        }
      ]
    },
    {
      "cell_type": "code",
      "source": [
        "#Ejemplo 8 opcion 2\n",
        "import math\n",
        "print(\"Escoger 1 estudiante de 6: \" + str(math.comb(6,1)))\n",
        "print(\"Escoger 2 estudiantes de 6: \" + str(math.comb(6,2)))\n",
        "print(\"Escoger 3 estudiantes de 6: \" + str(math.comb(6,3)))\n",
        "print(\"Escoger 4 estudiantes de 6: \" + str(math.comb(6,4)))\n",
        "print(\"Escoger 5 estudiantes de 6: \" + str(math.comb(6,5)))\n",
        "print(\"Escoger 6 estudiantes de 6: \" + str(math.comb(6,6)))\n",
        "print(\"Total: \"+ str(math.comb(6,1)+math.comb(6,2)+math.comb(6,3)+math.comb(6,4)+math.comb(6,5)+math.comb(6,6)))"
      ],
      "metadata": {
        "colab": {
          "base_uri": "https://localhost:8080/"
        },
        "id": "PTGCknkVp6OM",
        "outputId": "6124fcf4-cea7-4e2c-cb47-92bc5ed9880c"
      },
      "execution_count": null,
      "outputs": [
        {
          "output_type": "stream",
          "name": "stdout",
          "text": [
            "Escoger 1 estudiante de 6: 6\n",
            "Escoger 2 estudiantes de 6: 15\n",
            "Escoger 3 estudiantes de 6: 20\n",
            "Escoger 4 estudiantes de 6: 15\n",
            "Escoger 5 estudiantes de 6: 6\n",
            "Escoger 6 estudiantes de 6: 1\n",
            "Total: 63\n"
          ]
        }
      ]
    },
    {
      "cell_type": "markdown",
      "source": [
        "###producto cartesiano"
      ],
      "metadata": {
        "id": "4gDqysy9qy4j"
      }
    },
    {
      "cell_type": "code",
      "source": [
        "from itertools import product\n",
        "A = set([\"a\",\"b\"])\n",
        "B = set([2,3])\n",
        "C = set([3,4])\n",
        "result = list(product(A,B,C))\n",
        "result\n",
        "print(result)\n",
        "print(len(result))"
      ],
      "metadata": {
        "colab": {
          "base_uri": "https://localhost:8080/"
        },
        "id": "r2VWmp-jq0_s",
        "outputId": "2a45fa66-7925-43fa-e96d-d51c7bf93a73"
      },
      "execution_count": null,
      "outputs": [
        {
          "output_type": "stream",
          "name": "stdout",
          "text": [
            "[('a', 2, 3), ('a', 2, 4), ('a', 3, 3), ('a', 3, 4), ('b', 2, 3), ('b', 2, 4), ('b', 3, 3), ('b', 3, 4)]\n",
            "8\n"
          ]
        }
      ]
    },
    {
      "cell_type": "code",
      "source": [
        "#Lista (puede haber elementos repetidos)\n",
        "A = [\"a\", \"b\", \"c\", \"d\", \"a\", \"a\", \"b\", \"c\"] #list hace que se puedan repetir\n",
        "print(A)\n",
        "print(str(len(A)) + \" elementos\")"
      ],
      "metadata": {
        "colab": {
          "base_uri": "https://localhost:8080/"
        },
        "id": "hCGdIx73rZWL",
        "outputId": "9a194b09-efbc-4498-9f69-fdae94b7bb35"
      },
      "execution_count": null,
      "outputs": [
        {
          "output_type": "stream",
          "name": "stdout",
          "text": [
            "['a', 'b', 'c', 'd', 'a', 'a', 'b', 'c']\n",
            "8 elementos\n"
          ]
        }
      ]
    },
    {
      "cell_type": "code",
      "source": [
        "#Conjuntos (no puede haber repeticiones)\n",
        "A = set([\"a\",\"b\",\"c\",\"d\",\"a\",\"a\"]) #Conjunto. el set forza a que no se repitan (a pesar de tener [])\n",
        "print(A)\n",
        "print(str(len(A))+ \" elementos\")"
      ],
      "metadata": {
        "colab": {
          "base_uri": "https://localhost:8080/"
        },
        "id": "1pVZh7IbsTOS",
        "outputId": "e84fd157-2d25-4d00-a2b3-225efef5ea13"
      },
      "execution_count": null,
      "outputs": [
        {
          "output_type": "stream",
          "name": "stdout",
          "text": [
            "{'a', 'b', 'd', 'c'}\n",
            "4 elementos\n"
          ]
        }
      ]
    },
    {
      "cell_type": "markdown",
      "source": [
        "###Probabilidad"
      ],
      "metadata": {
        "id": "cE9zIE4M6os3"
      }
    },
    {
      "cell_type": "code",
      "source": [
        "# Ejemplo 2: Sean 2 articulos al azar de un grupo de 12\n",
        "# 8 no defectuosos\n",
        "# 4 defectuosos\n",
        "import math\n",
        "print(\"Probabilidad de sacar dos defectuosos: \" + str(math.comb(4,2)/math.comb(12,2))) #a.1)\n",
        "print(\"Probabilidad de sacar dos no defectuosos: \"+ str(math.comb(8,2)/math.comb(12,2))) #a.2)\n",
        "print(\"Probabilidad de al menos 1 defectuoso: \"+ str((math.comb(8,1)*math.comb(4,1))/math.comb(12,2)+math.comb(4,2)/math.comb(12,2))) #b)"
      ],
      "metadata": {
        "colab": {
          "base_uri": "https://localhost:8080/"
        },
        "id": "oDB4da0Dogdx",
        "outputId": "28ae5fa9-be88-4fc3-babd-5c8ac42efea5"
      },
      "execution_count": null,
      "outputs": [
        {
          "output_type": "stream",
          "name": "stdout",
          "text": [
            "Probabilidad de sacar dos defectuosos: 0.09090909090909091\n",
            "Probabilidad de sacar dos no defectuosos: 0.42424242424242425\n",
            "Probabilidad de al menos 1 defectuoso: 0.5757575757575758\n"
          ]
        }
      ]
    },
    {
      "cell_type": "markdown",
      "source": [
        "#Clase 3"
      ],
      "metadata": {
        "id": "7sCGLA5LLRVr"
      }
    },
    {
      "cell_type": "code",
      "source": [
        "# EJEMPLO 3 PROBA: Se importa la libreria para el calculo de permutaciones\n",
        "import math\n",
        "# Definimos la funcion para calcular la probabilidad en funcion de n\n",
        "p = lambda n: math.perm(365,n)/(365**n)\n",
        "# Calculamos e imprimimos la probabilidad para n personas\n",
        "N = 10 #personas\n",
        "for n in range(N):\n",
        "  print('P('+str(n+1)+') = '+'%.4f'%(p(n+1)))"
      ],
      "metadata": {
        "colab": {
          "base_uri": "https://localhost:8080/"
        },
        "id": "rSVZQFXWoiS_",
        "outputId": "39463bbb-b697-49cb-a419-7b224d47fd67"
      },
      "execution_count": null,
      "outputs": [
        {
          "output_type": "stream",
          "name": "stdout",
          "text": [
            "P(1) = 1.0000\n",
            "P(2) = 0.9973\n",
            "P(3) = 0.9918\n",
            "P(4) = 0.9836\n",
            "P(5) = 0.9729\n",
            "P(6) = 0.9595\n",
            "P(7) = 0.9438\n",
            "P(8) = 0.9257\n",
            "P(9) = 0.9054\n",
            "P(10) = 0.8831\n"
          ]
        }
      ]
    },
    {
      "cell_type": "code",
      "source": [
        "#lambda es para crear funciones, hagamos uno de x^2 + 1\n",
        "f = lambda x: x**2 + 1\n",
        "f(10)"
      ],
      "metadata": {
        "colab": {
          "base_uri": "https://localhost:8080/"
        },
        "id": "_6uGKb898mol",
        "outputId": "52c757cd-577f-4ca9-cebd-a14203e42665"
      },
      "execution_count": null,
      "outputs": [
        {
          "output_type": "execute_result",
          "data": {
            "text/plain": [
              "101"
            ]
          },
          "metadata": {},
          "execution_count": 3
        }
      ]
    },
    {
      "cell_type": "code",
      "source": [
        "#lambda es para crear funciones, hagamos uno de x^2 + 1\n",
        "f = lambda x,y: x + y\n",
        "f(2,1)"
      ],
      "metadata": {
        "colab": {
          "base_uri": "https://localhost:8080/"
        },
        "id": "vdR4zvyeCzNe",
        "outputId": "59c092ab-0fe6-4dcc-bdc1-234a551c8966"
      },
      "execution_count": null,
      "outputs": [
        {
          "output_type": "execute_result",
          "data": {
            "text/plain": [
              "3"
            ]
          },
          "metadata": {},
          "execution_count": 4
        }
      ]
    },
    {
      "cell_type": "code",
      "source": [
        "#Ejemplo 4: mitad 10 hombres y 20 mujeres. P de una persona sea escogida al azar sea hombre o tenga ojos castaños\n",
        "A = 10 #hombres\n",
        "B = 15 #hombres y mujeres con ojos castaños\n",
        "n = 30 #personas totales\n",
        "#P(A)\n",
        "print(\"P(A): \", A/n)\n",
        "#P(B)\n",
        "print(\"P(B): \", B/n)\n",
        "# P(AintB)\n",
        "print(\"P(AintB): \", 5/n)\n",
        "# P(AUB)\n",
        "print(\"P(AUB): \", (A/n)+(B/n) -(5/n))"
      ],
      "metadata": {
        "id": "dAWTNFaaChH4",
        "colab": {
          "base_uri": "https://localhost:8080/"
        },
        "outputId": "1a07eb8d-c571-4d6f-f626-f275229cf0fc"
      },
      "execution_count": null,
      "outputs": [
        {
          "output_type": "stream",
          "name": "stdout",
          "text": [
            "P(A):  0.3333333333333333\n",
            "P(B):  0.5\n",
            "P(AintB):  0.16666666666666666\n",
            "P(AUB):  0.6666666666666666\n"
          ]
        }
      ]
    },
    {
      "cell_type": "code",
      "source": [
        "#Ejemplo 5. Lanzar un dado. Si la suma es 6, prob que uno de los dados sea 2\n",
        "\n",
        "from itertools import product\n",
        "A1 = [1,2,3,4,5,6] #conjunto para el primer dado\n",
        "A2 =[1,2,3,4,5,6] #conjunto para el segundo dado\n",
        "S = list(product(A1,A2))\n",
        "for k in range(len(S)): #len enumera los conjuntos de la lista\n",
        "   print(\"Resultado \" + str(k+1) + \": \" + str(S[k]) + \"Suma = \" + str(sum(S[k])))"
      ],
      "metadata": {
        "colab": {
          "base_uri": "https://localhost:8080/"
        },
        "id": "sDWCg_UFJeVl",
        "outputId": "a8f4efef-228d-4883-e134-cdc36061ad5a"
      },
      "execution_count": null,
      "outputs": [
        {
          "output_type": "stream",
          "name": "stdout",
          "text": [
            "Resultado 1: (1, 1)Suma = 2\n",
            "Resultado 2: (1, 2)Suma = 3\n",
            "Resultado 3: (1, 3)Suma = 4\n",
            "Resultado 4: (1, 4)Suma = 5\n",
            "Resultado 5: (1, 5)Suma = 6\n",
            "Resultado 6: (1, 6)Suma = 7\n",
            "Resultado 7: (2, 1)Suma = 3\n",
            "Resultado 8: (2, 2)Suma = 4\n",
            "Resultado 9: (2, 3)Suma = 5\n",
            "Resultado 10: (2, 4)Suma = 6\n",
            "Resultado 11: (2, 5)Suma = 7\n",
            "Resultado 12: (2, 6)Suma = 8\n",
            "Resultado 13: (3, 1)Suma = 4\n",
            "Resultado 14: (3, 2)Suma = 5\n",
            "Resultado 15: (3, 3)Suma = 6\n",
            "Resultado 16: (3, 4)Suma = 7\n",
            "Resultado 17: (3, 5)Suma = 8\n",
            "Resultado 18: (3, 6)Suma = 9\n",
            "Resultado 19: (4, 1)Suma = 5\n",
            "Resultado 20: (4, 2)Suma = 6\n",
            "Resultado 21: (4, 3)Suma = 7\n",
            "Resultado 22: (4, 4)Suma = 8\n",
            "Resultado 23: (4, 5)Suma = 9\n",
            "Resultado 24: (4, 6)Suma = 10\n",
            "Resultado 25: (5, 1)Suma = 6\n",
            "Resultado 26: (5, 2)Suma = 7\n",
            "Resultado 27: (5, 3)Suma = 8\n",
            "Resultado 28: (5, 4)Suma = 9\n",
            "Resultado 29: (5, 5)Suma = 10\n",
            "Resultado 30: (5, 6)Suma = 11\n",
            "Resultado 31: (6, 1)Suma = 7\n",
            "Resultado 32: (6, 2)Suma = 8\n",
            "Resultado 33: (6, 3)Suma = 9\n",
            "Resultado 34: (6, 4)Suma = 10\n",
            "Resultado 35: (6, 5)Suma = 11\n",
            "Resultado 36: (6, 6)Suma = 12\n"
          ]
        }
      ]
    },
    {
      "cell_type": "code",
      "source": [
        "#Ejemplo 10: lanza una moneda y determina, primer lanzamiento cara, segundo lanzamiento cara, 2 caras seguidas\n",
        "#Obtener S\n",
        "from itertools import product\n",
        "S1=[\"H\",\"T\"]\n",
        "S = list(product(S1,S1,S1))\n",
        "for k in range(len(S)):\n",
        "    print(\"Resultado \" + str(k+1) + \" : \" + str(S[k]))"
      ],
      "metadata": {
        "colab": {
          "base_uri": "https://localhost:8080/"
        },
        "id": "DAGDJKEANRp1",
        "outputId": "a84d6399-fe7a-4ebf-c14e-9d1ffed7ec39"
      },
      "execution_count": null,
      "outputs": [
        {
          "output_type": "stream",
          "name": "stdout",
          "text": [
            "Resultado 1 : ('H', 'H', 'H')\n",
            "Resultado 2 : ('H', 'H', 'T')\n",
            "Resultado 3 : ('H', 'T', 'H')\n",
            "Resultado 4 : ('H', 'T', 'T')\n",
            "Resultado 5 : ('T', 'H', 'H')\n",
            "Resultado 6 : ('T', 'H', 'T')\n",
            "Resultado 7 : ('T', 'T', 'H')\n",
            "Resultado 8 : ('T', 'T', 'T')\n"
          ]
        }
      ]
    },
    {
      "cell_type": "markdown",
      "source": [
        "#Clase 3"
      ],
      "metadata": {
        "id": "BckiFq8rn-O-"
      }
    },
    {
      "cell_type": "code",
      "source": [
        "#Sacar 2 compus defectuosas\n",
        "import matplotlib.pyplot as plt #as puedes poner lo que sea xxx, xy pero plt es la std\n",
        "import numpy as np #lib de numeros -> numericpython\n",
        "plt.rcParams['figure.figsize'] = (5,4)\n",
        "x = np.array([0,1,2])\n",
        "y = np.array([10/28,15/28,3/28])\n",
        "plt.bar(x,y,width=.5,color = (1,0,0) , edgecolor=(0,0,1)) #width es la separación entre cada barra\n",
        "plt.xlabel('x')\n",
        "plt.ylabel('$f(x)_{prob}$') #$ lo hace cursiva y el _ le pone un subindice\n",
        "plt.xticks([0,1,2])"
      ],
      "metadata": {
        "colab": {
          "base_uri": "https://localhost:8080/",
          "height": 457
        },
        "id": "S9p4lQU6n_tI",
        "outputId": "bdec3304-05ad-47ac-95a4-7a1def28e3eb"
      },
      "execution_count": null,
      "outputs": [
        {
          "output_type": "execute_result",
          "data": {
            "text/plain": [
              "([<matplotlib.axis.XTick at 0x7fc276609150>,\n",
              "  <matplotlib.axis.XTick at 0x7fc276608a00>,\n",
              "  <matplotlib.axis.XTick at 0x7fc276608700>],\n",
              " [Text(0, 0, '0'), Text(1, 0, '1'), Text(2, 0, '2')])"
            ]
          },
          "metadata": {},
          "execution_count": 42
        },
        {
          "output_type": "display_data",
          "data": {
            "text/plain": [
              "<Figure size 500x400 with 1 Axes>"
            ],
            "image/png": "[encoded data removed]"
          },
          "metadata": {}
        }
      ]
    },
    {
      "cell_type": "markdown",
      "source": [
        "#Clase 4"
      ],
      "metadata": {
        "id": "xgeD0MSGzGid"
      }
    },
    {
      "cell_type": "code",
      "source": [
        "#Si el 50% de los automóviles extranjeros,\n",
        "# encuentre una fórmula para la distribución de probabilidad del num carros diesel de los prox 4 automóviles que venda\n",
        "from itertools import product\n",
        "S1 = ['D' , 'G']\n",
        "S = list(product(S1,S1,S1))\n",
        "for k in range(len(S)):\n",
        "    print('Resultado ' + str(k+1) + ' : ' + str(S[k]))"
      ],
      "metadata": {
        "colab": {
          "base_uri": "https://localhost:8080/"
        },
        "id": "stoyPt7YzHsq",
        "outputId": "105e0aab-b742-4df9-c1b6-5fcca0b577d4"
      },
      "execution_count": null,
      "outputs": [
        {
          "output_type": "stream",
          "name": "stdout",
          "text": [
            "Resultado 1 : ('D', 'D', 'D')\n",
            "Resultado 2 : ('D', 'D', 'G')\n",
            "Resultado 3 : ('D', 'G', 'D')\n",
            "Resultado 4 : ('D', 'G', 'G')\n",
            "Resultado 5 : ('G', 'D', 'D')\n",
            "Resultado 6 : ('G', 'D', 'G')\n",
            "Resultado 7 : ('G', 'G', 'D')\n",
            "Resultado 8 : ('G', 'G', 'G')\n"
          ]
        }
      ]
    },
    {
      "cell_type": "code",
      "source": [
        "from math import comb\n",
        "print('C(4,0) = ' +str(comb(4,0)))\n",
        "print('C(4,1) = ' +str(comb(4,1)))\n",
        "print('C(4,2) = ' +str(comb(4,2)))\n",
        "print('C(4,3) = ' +str(comb(4,3)))\n",
        "print('C(4,4) = ' +str(comb(4,4)))\n",
        "print('---------')\n",
        "print('Suma = ' + str(comb(4,0)+comb(4,1)+comb(4,2)+comb(4,3)+comb(4,4)))"
      ],
      "metadata": {
        "colab": {
          "base_uri": "https://localhost:8080/"
        },
        "id": "kNjmE_BXGb23",
        "outputId": "9e37c325-7510-4fbc-d438-9b4f01aa3498"
      },
      "execution_count": null,
      "outputs": [
        {
          "output_type": "stream",
          "name": "stdout",
          "text": [
            "C(4,0) = 1\n",
            "C(4,1) = 4\n",
            "C(4,2) = 6\n",
            "C(4,3) = 4\n",
            "C(4,4) = 1\n",
            "---------\n",
            "Suma = 16\n"
          ]
        }
      ]
    },
    {
      "cell_type": "code",
      "source": [
        "from math import comb\n",
        "N = lambda x:comb(4,x)/16 #formula f(x)\n",
        "x =[0,1,2,3,4]\n",
        "for k in range(len(x)):\n",
        "    print('Para x = ' + str(x[k])+ ', N = '+\\\n",
        "          str(comb(4,x[k]))+', f('+str(x[k])+ ') = ' + str(N(x[k])))"
      ],
      "metadata": {
        "colab": {
          "base_uri": "https://localhost:8080/"
        },
        "id": "Ipz74squEqVM",
        "outputId": "bfaa737f-b66c-4ab8-f874-40900c92ff01"
      },
      "execution_count": null,
      "outputs": [
        {
          "output_type": "stream",
          "name": "stdout",
          "text": [
            "Para x = 0, N = 1, f(0) = 0.0625\n",
            "Para x = 1, N = 4, f(1) = 0.25\n",
            "Para x = 2, N = 6, f(2) = 0.375\n",
            "Para x = 3, N = 4, f(3) = 0.25\n",
            "Para x = 4, N = 1, f(4) = 0.0625\n"
          ]
        }
      ]
    },
    {
      "cell_type": "code",
      "source": [
        "#Histograma\n",
        "from itertools import product\n",
        "import matplotlib.pyplot as plt\n",
        "import numpy as np #lib de numeros -> numericpython\n",
        "from math import comb\n",
        "plt.rcParams['figure.figsize'] = (12,4)\n",
        "##------\n",
        "S1 = ['D', 'G']\n",
        "S = list(product(S1, S1, S1))\n",
        "x = np.array([0, 1, 2, 3, 4])\n",
        "y = np.array([0, 0, 0, 0, 0])\n",
        "for k in range(len(S)):\n",
        "    items_found = S[k].count('D')\n",
        "    y[items_found] = y[items_found] + 1\n",
        "##------\n",
        "plt.subplot(1, 2, 1)\n",
        "plt.bar(x, y, width=1, color=(0.7, 0.7, 0.7), edgecolor=(0, 0, 0))\n",
        "plt.xlabel('x')\n",
        "plt.ylabel('$N$')\n",
        "plt.xticks([0, 1, 2, 3, 4])\n",
        "##------\n",
        "plt.subplot(1, 2, 2)\n",
        "plt.bar(x, y, width=1, color=(0.7, 0.7, 0.7), edgecolor=(0, 0, 0))\n",
        "plt.xlabel('x')\n",
        "plt.ylabel('$f(x)$')\n",
        "plt.xticks([0, 1, 2, 3, 4])\n",
        "#ALGO ESTA MAL"
      ],
      "metadata": {
        "colab": {
          "base_uri": "https://localhost:8080/",
          "height": 562
        },
        "id": "Yb2hgy7LFqrR",
        "outputId": "15463d98-8bba-4457-9529-6ec5f6d7a105"
      },
      "execution_count": null,
      "outputs": [
        {
          "output_type": "execute_result",
          "data": {
            "text/plain": [
              "([<matplotlib.axis.XTick at 0x7fc275c15570>,\n",
              "  <matplotlib.axis.XTick at 0x7fc275c15540>,\n",
              "  <matplotlib.axis.XTick at 0x7fc275c15450>,\n",
              "  <matplotlib.axis.XTick at 0x7fc275c16980>,\n",
              "  <matplotlib.axis.XTick at 0x7fc275ba0850>],\n",
              " [Text(0, 0, '0'),\n",
              "  Text(1, 0, '1'),\n",
              "  Text(2, 0, '2'),\n",
              "  Text(3, 0, '3'),\n",
              "  Text(4, 0, '4')])"
            ]
          },
          "metadata": {},
          "execution_count": 68
        },
        {
          "output_type": "display_data",
          "data": {
            "text/plain": [
              "<Figure size 1200x400 with 2 Axes>"
            ],
            "image/png": "[encoded data removed]"
          },
          "metadata": {}
        }
      ]
    },
    {
      "cell_type": "code",
      "source": [
        "#Histograma ejercicio libros de mate\n",
        "from itertools import product\n",
        "import matplotlib.pyplot as plt\n",
        "import numpy as np #lib de numeros -> numericpython\n",
        "plt.rcParams['figure.figsize'] = (5,5)\n",
        "##------------\n",
        "plt.subplot(1, 1, 1)\n",
        "plt.bar([0,1,2,3],[56/1140,336/1140,528/1140,220/1140], width=0.5, color=(0.7, 0.7, 0.7), edgecolor=(0, 0, 0))\n",
        "plt.xlabel('x')\n",
        "plt.ylabel('$f(x)$')\n",
        "plt.xticks([0,1,2,3])\n",
        "plt.yticks([0,0.25,0.5,0.75,1])"
      ],
      "metadata": {
        "colab": {
          "base_uri": "https://localhost:8080/",
          "height": 644
        },
        "id": "r1pZTC18JGQY",
        "outputId": "d92c6460-9d46-4021-cf7d-ac2058255da7"
      },
      "execution_count": null,
      "outputs": [
        {
          "output_type": "execute_result",
          "data": {
            "text/plain": [
              "([<matplotlib.axis.YTick at 0x7fc2759f0190>,\n",
              "  <matplotlib.axis.YTick at 0x7fc2759f1480>,\n",
              "  <matplotlib.axis.YTick at 0x7fc2759ca230>,\n",
              "  <matplotlib.axis.YTick at 0x7fc275a9b370>,\n",
              "  <matplotlib.axis.YTick at 0x7fc275a16d10>],\n",
              " [Text(0, 0.0, '0.00'),\n",
              "  Text(0, 0.25, '0.25'),\n",
              "  Text(0, 0.5, '0.50'),\n",
              "  Text(0, 0.75, '0.75'),\n",
              "  Text(0, 1.0, '1.00')])"
            ]
          },
          "metadata": {},
          "execution_count": 72
        },
        {
          "output_type": "display_data",
          "data": {
            "text/plain": [
              "<Figure size 500x500 with 1 Axes>"
            ],
            "image/png": "[encoded data removed]"
          },
          "metadata": {}
        }
      ]
    },
    {
      "cell_type": "code",
      "source": [
        "#Ejemplo 7 Bernoulli 3 artículos defectuosos\n",
        "#¿Cuál es la distribución de probabilidad de este experimento si se supone que el 25% de las piezas que se producen son defectuosas?\n",
        "from itertools import product\n",
        "import numpy as np\n",
        "\n",
        "S1 = ['N','D']\n",
        "S = list(product(S1,S1,S1))\n",
        "for k in range(len(S)):\n",
        "    print('Resultado ' + str(k+1)+ ': ' + str(S[k]))\n",
        "x = np.array([0, 1, 2, 3])\n",
        "f = np.array([0, 0, 0, 0])\n",
        "for k in range(len(S)):\n",
        "    items_found = S[k].count('D')\n",
        "    f[items_found] = f[items_found] + 1\n",
        "print('--------------')\n",
        "print('N(0) = {:<4d} N(1) = {:<4d} N(2) = {:<5d} N(3) = {:<5d} '.format(*f))"
      ],
      "metadata": {
        "colab": {
          "base_uri": "https://localhost:8080/"
        },
        "id": "Yk2FxH1iQMp7",
        "outputId": "7bbf87bc-17a5-4d66-aca5-abed67b2100f"
      },
      "execution_count": null,
      "outputs": [
        {
          "output_type": "stream",
          "name": "stdout",
          "text": [
            "Resultado 1: ('N', 'N', 'N')\n",
            "Resultado 2: ('N', 'N', 'D')\n",
            "Resultado 3: ('N', 'D', 'N')\n",
            "Resultado 4: ('N', 'D', 'D')\n",
            "Resultado 5: ('D', 'N', 'N')\n",
            "Resultado 6: ('D', 'N', 'D')\n",
            "Resultado 7: ('D', 'D', 'N')\n",
            "Resultado 8: ('D', 'D', 'D')\n",
            "--------------\n",
            "N(0) = 1    N(1) = 3    N(2) = 3     N(3) = 1     \n"
          ]
        }
      ]
    },
    {
      "cell_type": "code",
      "source": [
        "#Ejemplo 8 distribución normal\n",
        "from scipy.stats import norm\n",
        "print('P<Z<1.84) = '+ '%.4F'%(norm(0,1).cdf(1.84)))\n",
        "print('P<1.84<Z) = '+ '%.4F'%(1-norm(0,1).cdf(1.84)))\n",
        "\n",
        "print('----------')\n",
        "print('P<Z<-1.97) = '+ '%.4F'%(norm(0,1).cdf(-1.97)))\n",
        "print('P<Z<0.86) = '+ '%.4F'%(norm(0,1).cdf(0.86)))\n",
        "print('P(-1.97<Z<0.86) = '+ '%.4F'%(norm(0,1).cdf(0.86)-norm(0,1).cdf(-1.97)))"
      ],
      "metadata": {
        "colab": {
          "base_uri": "https://localhost:8080/"
        },
        "id": "KpyVT_FBZ5uW",
        "outputId": "39ce89b0-7bbc-46cd-dd9f-dfc28bacad4b"
      },
      "execution_count": null,
      "outputs": [
        {
          "output_type": "stream",
          "name": "stdout",
          "text": [
            "P<Z<1.84) = 0.9671\n",
            "P<1.84<Z) = 0.0329\n",
            "----------\n",
            "P<Z<-1.97) = 0.0244\n",
            "P<Z<0.86) = 0.8051\n",
            "P(-1.97<Z<0.86) = 0.7807\n"
          ]
        }
      ]
    },
    {
      "cell_type": "code",
      "source": [
        "#Supóngase que la temperatura T durante el mes de junio está distribuida normalmente con\n",
        "#media de 68°C y desviación estándar de 6°C. Hallar la probabilidad 𝑝 de que la temperatura\n",
        "#esté entre 70°C y 80°C\n",
        "from scipy.stats import norm\n",
        "x1 = 70\n",
        "x2 = 80\n",
        "mu = 68\n",
        "sigma = 6\n",
        "z1 = (x1-mu)/sigma\n",
        "z2 = (x2-mu)/sigma\n",
        "\n",
        "print(norm(0,1).cdf(z1))\n",
        "print(norm(0,1).cdf(z2))\n",
        "p = norm(0,1).cdf(z2)-norm(0,1).cdf(z1)\n",
        "print(\"P = \"+str(p))"
      ],
      "metadata": {
        "colab": {
          "base_uri": "https://localhost:8080/"
        },
        "id": "KSyljUFFgDFK",
        "outputId": "ece96e61-83b7-47f7-9bbf-bcd9cc0938f4"
      },
      "execution_count": null,
      "outputs": [
        {
          "output_type": "stream",
          "name": "stdout",
          "text": [
            "0.6305586598182363\n",
            "0.9772498680518208\n",
            "P = 0.34669120823358446\n"
          ]
        }
      ]
    },
    {
      "cell_type": "code",
      "source": [
        "#MATRICES\n",
        "import numpy as np\n",
        "A = np.matrix( [ [4,0,5],[-1,3,2] ] )\n",
        "A"
      ],
      "metadata": {
        "colab": {
          "base_uri": "https://localhost:8080/"
        },
        "id": "7h5GrH34jRhK",
        "outputId": "67133c25-e212-4c4d-a1c9-840c4e070223"
      },
      "execution_count": null,
      "outputs": [
        {
          "output_type": "execute_result",
          "data": {
            "text/plain": [
              "matrix([[ 4,  0,  5],\n",
              "        [-1,  3,  2]])"
            ]
          },
          "metadata": {},
          "execution_count": 88
        }
      ]
    },
    {
      "cell_type": "code",
      "source": [
        "#MATRICES\n",
        "import numpy as np\n",
        "A = np.matrix( [ [4,0,5] , [-1,3,2] ] )\n",
        "B = np.matrix( [ [1,1,1] , [3,5,7] ] )\n",
        "print(A+B)\n",
        "print(\"------\")\n",
        "print(2*B)\n",
        "print(\"------\")\n",
        "print(A-(2*B))"
      ],
      "metadata": {
        "colab": {
          "base_uri": "https://localhost:8080/"
        },
        "id": "GoJ9cBMSnWut",
        "outputId": "b06e578a-22ee-4f06-bac4-238cea5701ab"
      },
      "execution_count": null,
      "outputs": [
        {
          "output_type": "stream",
          "name": "stdout",
          "text": [
            "[[5 1 6]\n",
            " [2 8 9]]\n",
            "------\n",
            "[[ 2  2  2]\n",
            " [ 6 10 14]]\n",
            "------\n",
            "[[  2  -2   3]\n",
            " [ -7  -7 -12]]\n"
          ]
        }
      ]
    },
    {
      "cell_type": "code",
      "source": [
        "#1. Sean A y B eventos con P(A)= 3/8, P(B)=1/2 y P(AintersecciónB)=1/4\n",
        "from fractions import Fraction\n",
        "A = Fraction(3,8) #3/8\n",
        "B = Fraction(1,2) #1/2\n",
        "AyB = Fraction(1,4) #1/4\n",
        "\n",
        "# A unión B\n",
        "AUB = A + B - AyB\n",
        "print(\"A unión B: \", AUB)\n",
        "\n",
        "# Complemento de A\n",
        "Ac = 1 - A\n",
        "Bc = 1 - B\n",
        "print(\"A complemento: \", Ac)\n",
        "print(\"B complemento: \", Bc)\n",
        "\n",
        "# Complemento A intersección Complemento de B\n",
        "# 1 - P(AUB)\n",
        "print(\"Complemento A intersección Complemento de B: \", 1-AUB)\n",
        "\n",
        "# Complemento A unión Complemento de B\n",
        "# 1 - (1-AUB)\n",
        "print(\"Complemento A unión Complemento de B: \", 1 - AyB)\n",
        "\n",
        "# A unión complemento B (A-AinterseccionB)\n",
        "print(\"A unión complemento B: \", A - AyB)\n",
        "\n",
        "#B unión Complemento A --> (B-AinterseccionB)\n",
        "print(\"B unión Complemento A: \", B - AyB )"
      ],
      "metadata": {
        "colab": {
          "base_uri": "https://localhost:8080/"
        },
        "id": "mxcTuMpUnume",
        "outputId": "8e806d4f-f409-47a4-9851-6bf5ad5a281c"
      },
      "execution_count": null,
      "outputs": [
        {
          "output_type": "stream",
          "name": "stdout",
          "text": [
            "A unión B:  5/8\n",
            "A complemento:  5/8\n",
            "B complemento:  1/2\n",
            "Complemento A intersección Complemento de B:  3/8\n",
            "Complemento A unión Complemento de B:  3/4\n",
            "A unión complemento B:  1/8\n",
            "B unión Complemento A:  1/4\n"
          ]
        }
      ]
    },
    {
      "cell_type": "code",
      "source": [
        "#Ejemplo 8\n",
        "import math\n",
        "print(\"Escoger 1 estudiante de 6: \" + str(math.comb(6,1)))\n",
        "print(\"Escoger 2 estudiantes de 6: \" + str(math.comb(6,2)))\n",
        "print(\"Escoger 3 estudiantes de 6: \" + str(math.comb(6,3)))\n",
        "print(\"Escoger 4 estudiantes de 6: \" + str(math.comb(6,4)))\n",
        "print(\"Escoger 5 estudiantes de 6: \" + str(math.comb(6,5)))\n",
        "print(\"Escoger 6 estudiantes de 6: \" + str(math.comb(6,6)))\n",
        "print(\"Total: \"+ str(math.comb(6,1)+math.comb(6,2)+math.comb(6,3)+math.comb(6,4)+math.comb(6,5)+math.comb(6,6)))"
      ],
      "metadata": {
        "colab": {
          "base_uri": "https://localhost:8080/"
        },
        "id": "0vvSyru2Q6vU",
        "outputId": "fcc70bf4-f0ed-4283-ea96-4dbf77e76910"
      },
      "execution_count": null,
      "outputs": [
        {
          "output_type": "stream",
          "name": "stdout",
          "text": [
            "Escoger 1 estudiante de 6: 6\n",
            "Escoger 2 estudiantes de 6: 15\n",
            "Escoger 3 estudiantes de 6: 20\n",
            "Escoger 4 estudiantes de 6: 15\n",
            "Escoger 5 estudiantes de 6: 6\n",
            "Escoger 6 estudiantes de 6: 1\n",
            "Total: 63\n"
          ]
        }
      ]
    },
    {
      "cell_type": "code",
      "source": [],
      "metadata": {
        "id": "1UJmA98bQ97a"
      },
      "execution_count": null,
      "outputs": []
    }
  ]
}