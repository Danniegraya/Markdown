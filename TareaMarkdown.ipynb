{
 "cells": [
  {
   "cell_type": "markdown",
   "metadata": {},
   "source": [
    "# Biografía de Daniela García Raya 🤙🏻"
   ]
  },
  {
   "cell_type": "markdown",
   "metadata": {},
   "source": [
    "> La imaginación es más importante que el conocimiento. El conocimiento se limita a\n",
    "> todo lo que ahora sabemos y comprendemos, mientras que la imaginación abarca el  \n",
    "> mundo entero, y todo lo que alguna vez conoceremos y entenderemos. \n",
    "\n",
    "> _Albert Einstein_\n"
   ]
  },
  {
   "cell_type": "markdown",
   "metadata": {},
   "source": [
    "| Syntax | `Descripción` |\n",
    "| ----------- | ----------- |\n",
    "| Titulo | Biografía |\n",
    "| Acérca | mi vida|"
   ]
  },
  {
   "cell_type": "markdown",
   "metadata": {},
   "source": [
    "![Foto de perfil](https://media.licdn.com/dms/image/D4E03AQFkivh0K0JQOw/profile-displayphoto-shrink_800_800/0/1689186527061?e=1698883200&v=beta&t=jN_0iBhyg0df79M1DoU6pfgLqZMoMzDNCqg5650KnqA)"
   ]
  },
  {
   "cell_type": "markdown",
   "metadata": {},
   "source": [
    "Donde he trabajado:\n",
    "\n",
    "Actual: \n",
    "![alt text](https://download.logo.wine/logo/Jabil/Jabil-Logo.wine.png \"Logo Title Text 1\")\n",
    "\n",
    "Medio tiempo: \n",
    "![alt text][logo]\n",
    "\n",
    "[logo]: https://i0.wp.com/fslb.com.mx/ezmfg/wp-content/uploads/2022/06/ll.png?fit=221%2C286&ssl=1 \"Logo Title Text 2\""
   ]
  },
  {
   "cell_type": "markdown",
   "metadata": {},
   "source": [
    "Soy responsable de:\n",
    "  - [x] Elaboración de reportes\n",
    "  - [x] Diseño UI/UX, diseño y rediseño páginas web\n",
    "  - [x] Revisión de documentos\n",
    "  - [x] Seguimiento de compras\n",
    "  - [x] Soporte en la gestión de proyectos\n",
    "  - [x] Auditoría de documentos en PLCM"
   ]
  },
  {
   "cell_type": "markdown",
   "metadata": {},
   "source": [
    "[-->LinkedIn](https://www.linkedin.com/in/danielagarciaraya/)\n"
   ]
  },
  {
   "cell_type": "markdown",
   "metadata": {},
   "source": []
  }
 ],
 "metadata": {
  "kernelspec": {
   "display_name": "Python 3",
   "language": "python",
   "name": "python3"
  },
  "language_info": {
   "codemirror_mode": {
    "name": "ipython",
    "version": 3
   },
   "file_extension": ".py",
   "mimetype": "text/x-python",
   "name": "python",
   "nbconvert_exporter": "python",
   "pygments_lexer": "ipython3",
   "version": "3.11.4"
  },
  "orig_nbformat": 4
 },
 "nbformat": 4,
 "nbformat_minor": 2
}
